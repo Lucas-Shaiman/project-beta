{
 "cells": [
  {
   "cell_type": "code",
   "execution_count": 1,
   "metadata": {},
   "outputs": [],
   "source": [
    "import load_stocks as stocks"
   ]
  },
  {
   "cell_type": "code",
   "execution_count": 2,
   "metadata": {
    "pycharm": {
     "name": "#%%\n"
    }
   },
   "outputs": [],
   "source": [
    "# print(stocks.set_stocks())"
   ]
  },
  {
   "cell_type": "code",
   "execution_count": 3,
   "metadata": {
    "pycharm": {
     "name": "#%%\n"
    }
   },
   "outputs": [],
   "source": [
    "#print(stocks.get_stocks_pct_change())"
   ]
  },
  {
   "cell_type": "code",
   "execution_count": 4,
   "metadata": {
    "pycharm": {
     "name": "#%%\n"
    }
   },
   "outputs": [],
   "source": [
    "#print(stocks.get_stocks_list())"
   ]
  },
  {
   "cell_type": "code",
   "execution_count": 5,
   "metadata": {
    "pycharm": {
     "name": "#%%\n"
    }
   },
   "outputs": [
    {
     "name": "stdout",
     "output_type": "stream",
     "text": [
      "                AAPL  AAPL Lag   SPY Lag  GOOG Lag   TSM Lag  NVDA Lag  \\\n",
      "2015-07-08 -0.024823 -0.002460  0.006289  0.004131  0.000872 -0.018840   \n",
      "2015-07-09 -0.020397 -0.024823 -0.016777 -0.015599 -0.031794 -0.007074   \n",
      "2015-07-10  0.026734 -0.020397  0.001809  0.007449 -0.000450 -0.012214   \n",
      "2015-07-13  0.019306  0.026734  0.012592  0.018149  0.015752  0.017517   \n",
      "2015-07-14 -0.000398  0.019306  0.011037  0.030974  0.012849  0.006582   \n",
      "...              ...       ...       ...       ...       ...       ...   \n",
      "2021-06-29  0.011500  0.012546  0.002016 -0.001382  0.026431  0.050129   \n",
      "2021-06-30  0.004621  0.011500  0.000538 -0.006316  0.005184  0.002089   \n",
      "2021-07-01  0.002263  0.004621  0.000842 -0.005575 -0.000582 -0.001211   \n",
      "2021-07-02  0.019596  0.002263  0.005537  0.008399 -0.014481  0.010474   \n",
      "2021-07-06  0.014718  0.019596  0.007644  0.018600  0.004138  0.013606   \n",
      "\n",
      "            MSFT Lag     T Lag    VZ Lag  TMUS Lag  PYPL Lag   VGT Lag  \\\n",
      "2015-07-08 -0.002027  0.004493  0.004464  0.003372 -0.002452  0.000188   \n",
      "2015-07-09 -0.001354 -0.027397 -0.014180 -0.005429 -0.052430 -0.016906   \n",
      "2015-07-10  0.006329 -0.011498 -0.006870  0.007798 -0.005764 -0.002197   \n",
      "2015-07-13  0.002022  0.007560  0.015997  0.006706  0.005507  0.014841   \n",
      "2015-07-14  0.020847  0.006638  0.004255  0.005893  0.060248  0.014718   \n",
      "...              ...       ...       ...       ...       ...       ...   \n",
      "2021-06-29  0.013961 -0.003808 -0.003547 -0.002064  0.013985  0.010660   \n",
      "2021-06-30  0.009973 -0.004170 -0.006052 -0.000345 -0.003031  0.007149   \n",
      "2021-07-01 -0.001842  0.004187  0.003403 -0.001104 -0.004372 -0.003274   \n",
      "2021-07-02  0.002584  0.011466  0.004640  0.003521 -0.008508  0.000326   \n",
      "2021-07-06  0.022275  0.004122  0.002665  0.006536  0.004291  0.012058   \n",
      "\n",
      "            AMZN Lag   IBM Lag  NFLX Lag  \n",
      "2015-07-08  0.001559  0.001639 -0.005075  \n",
      "2015-07-09 -0.016074 -0.011151 -0.006210  \n",
      "2015-07-10  0.010915  0.004229  0.023742  \n",
      "2015-07-13  0.020995  0.018920  0.015684  \n",
      "2015-07-14  0.027192  0.014555  0.039686  \n",
      "...              ...       ...       ...  \n",
      "2021-06-29  0.012474 -0.010556  0.011308  \n",
      "2021-06-30  0.001234  0.001790  0.000882  \n",
      "2021-07-01 -0.002314  0.007145 -0.009916  \n",
      "2021-07-02 -0.002090  0.001705  0.010091  \n",
      "2021-07-06  0.022724 -0.046445  0.000825  \n",
      "\n",
      "[1510 rows x 15 columns]\n"
     ]
    }
   ],
   "source": [
    "print(stocks.set_lags())"
   ]
  },
  {
   "cell_type": "code",
   "execution_count": 6,
   "metadata": {
    "pycharm": {
     "is_executing": true,
     "name": "#%%\n"
    }
   },
   "outputs": [],
   "source": [
    "#print(stocks.getSampleValues_stocks())"
   ]
  },
  {
   "cell_type": "code",
   "execution_count": 7,
   "metadata": {
    "pycharm": {
     "is_executing": true,
     "name": "#%%\n"
    }
   },
   "outputs": [],
   "source": [
    "#print(stocks.getTestingData_stocks())"
   ]
  },
  {
   "cell_type": "code",
   "execution_count": 8,
   "metadata": {
    "pycharm": {
     "is_executing": true,
     "name": "#%%\n"
    }
   },
   "outputs": [],
   "source": [
    "#print(stocks.scale_TestingData_stocks())"
   ]
  },
  {
   "cell_type": "code",
   "execution_count": 9,
   "metadata": {
    "pycharm": {
     "is_executing": true,
     "name": "#%%\n"
    }
   },
   "outputs": [],
   "source": [
    "#print(stocks.reshapeFeatures_stocks())"
   ]
  },
  {
   "cell_type": "code",
   "execution_count": null,
   "metadata": {
    "pycharm": {
     "name": "#%%\n"
    }
   },
   "outputs": [
    {
     "name": "stdout",
     "output_type": "stream",
     "text": [
      "step 1. compile the model\n",
      "step 2. model summary\n",
      "Model: \"sequential\"\n",
      "_________________________________________________________________\n",
      "Layer (type)                 Output Shape              Param #   \n",
      "=================================================================\n",
      "lstm (LSTM)                  (None, 5, 5)              140       \n",
      "_________________________________________________________________\n",
      "flatten (Flatten)            (None, 25)                0         \n",
      "_________________________________________________________________\n",
      "dense (Dense)                (None, 1)                 26        \n",
      "=================================================================\n",
      "Total params: 166\n",
      "Trainable params: 166\n",
      "Non-trainable params: 0\n",
      "_________________________________________________________________\n",
      "step 3. Train the model\n",
      "Epoch 1/10\n",
      "1053/1053 [==============================] - 3s 1ms/step - loss: 0.0141\n",
      "Epoch 2/10\n",
      "1053/1053 [==============================] - 1s 1ms/step - loss: 0.0045\n",
      "Epoch 3/10\n",
      "1053/1053 [==============================] - 1s 1ms/step - loss: 0.0045\n",
      "Epoch 4/10\n",
      "1053/1053 [==============================] - 1s 1ms/step - loss: 0.0045\n",
      "Epoch 5/10\n",
      "1053/1053 [==============================] - 1s 1ms/step - loss: 0.0044\n",
      "Epoch 6/10\n",
      "1053/1053 [==============================] - 1s 1ms/step - loss: 0.0044\n",
      "Epoch 7/10\n",
      "1053/1053 [==============================] - 1s 1ms/step - loss: 0.0044\n",
      "Epoch 8/10\n",
      "1053/1053 [==============================] - 1s 1ms/step - loss: 0.0044\n",
      "Epoch 9/10\n",
      "1053/1053 [==============================] - 1s 1ms/step - loss: 0.0044\n",
      "Epoch 10/10\n",
      "1053/1053 [==============================] - 1s 1ms/step - loss: 0.0044\n",
      "step 4. Evaluate the model\n",
      "15/15 [==============================] - 0s 784us/step - loss: 0.0095\n"
     ]
    }
   ],
   "source": [
    "stocks.get_predictions_stocks().plot()"
   ]
  }
 ],
 "metadata": {
  "kernelspec": {
   "display_name": "PyCharm (PREWORK_CP)",
   "language": "python",
   "name": "pycharm-ff7becef"
  },
  "language_info": {
   "codemirror_mode": {
    "name": "ipython",
    "version": 3
   },
   "file_extension": ".py",
   "mimetype": "text/x-python",
   "name": "python",
   "nbconvert_exporter": "python",
   "pygments_lexer": "ipython3",
   "version": "3.9.5"
  }
 },
 "nbformat": 4,
 "nbformat_minor": 1
}