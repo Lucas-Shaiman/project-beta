{
 "cells": [
  {
   "cell_type": "code",
   "execution_count": 1,
   "metadata": {},
   "outputs": [],
   "source": [
    "import load_stocks_old as stocks"
   ]
  },
  {
   "cell_type": "code",
   "execution_count": 2,
   "metadata": {
    "pycharm": {
     "name": "#%%\n"
    }
   },
   "outputs": [],
   "source": [
    "# print(stocks.set_stocks())"
   ]
  },
  {
   "cell_type": "code",
   "execution_count": 3,
   "metadata": {
    "pycharm": {
     "name": "#%%\n"
    }
   },
   "outputs": [],
   "source": [
    "#print(stocks.get_stocks_pct_change())"
   ]
  },
  {
   "cell_type": "code",
   "execution_count": 4,
   "metadata": {
    "pycharm": {
     "name": "#%%\n"
    }
   },
   "outputs": [
    {
     "name": "stdout",
     "output_type": "stream",
     "text": [
      "['AAPL', 'SPY', 'GOOG', 'TSM', 'NVDA', 'MSFT', 'T', 'VZ', 'TMUS', 'PYPL', 'VGT', 'AMZN', 'IBM', 'NFLX']\n"
     ]
    }
   ],
   "source": [
    "print(stocks.get_stocks_list())"
   ]
  },
  {
   "cell_type": "code",
   "execution_count": 5,
   "metadata": {
    "pycharm": {
     "name": "#%%\n"
    }
   },
   "outputs": [],
   "source": [
    "#print(stocks.set_lags())"
   ]
  },
  {
   "cell_type": "code",
   "execution_count": 6,
   "metadata": {
    "pycharm": {
     "is_executing": true,
     "name": "#%%\n"
    }
   },
   "outputs": [],
   "source": [
    "#print(stocks.getSampleValues_stocks())"
   ]
  },
  {
   "cell_type": "code",
   "execution_count": 7,
   "metadata": {
    "pycharm": {
     "is_executing": true,
     "name": "#%%\n"
    }
   },
   "outputs": [],
   "source": [
    "#print(stocks.getTestingData_stocks())"
   ]
  },
  {
   "cell_type": "code",
   "execution_count": 8,
   "metadata": {
    "pycharm": {
     "is_executing": true,
     "name": "#%%\n"
    }
   },
   "outputs": [],
   "source": [
    "#print(stocks.scale_TestingData_stocks())"
   ]
  },
  {
   "cell_type": "code",
   "execution_count": 9,
   "metadata": {
    "pycharm": {
     "is_executing": true,
     "name": "#%%\n"
    }
   },
   "outputs": [],
   "source": [
    "#print(stocks.reshapeFeatures_stocks())"
   ]
  },
  {
   "cell_type": "code",
   "execution_count": 10,
   "metadata": {
    "pycharm": {
     "name": "#%%\n"
    }
   },
   "outputs": [
    {
     "name": "stdout",
     "output_type": "stream",
     "text": [
      "step 1. compile the model\n",
      "step 2. model summary\n",
      "Model: \"sequential\"\n",
      "_________________________________________________________________\n",
      "Layer (type)                 Output Shape              Param #   \n",
      "=================================================================\n",
      "lstm (LSTM)                  (None, 5, 5)              140       \n",
      "_________________________________________________________________\n",
      "flatten (Flatten)            (None, 25)                0         \n",
      "_________________________________________________________________\n",
      "dense (Dense)                (None, 1)                 26        \n",
      "=================================================================\n",
      "Total params: 166\n",
      "Trainable params: 166\n",
      "Non-trainable params: 0\n",
      "_________________________________________________________________\n",
      "step 3. Train the model\n",
      "Epoch 1/10\n",
      "1054/1054 [==============================] - 2s 1ms/step - loss: 1.5762e-04\n",
      "Epoch 2/10\n",
      "1054/1054 [==============================] - 1s 1ms/step - loss: 2.4280e-04\n",
      "Epoch 3/10\n",
      "1054/1054 [==============================] - 1s 1ms/step - loss: 2.9656e-04\n",
      "Epoch 4/10\n",
      "1054/1054 [==============================] - 1s 1ms/step - loss: 3.3574e-04\n",
      "Epoch 5/10\n",
      "1054/1054 [==============================] - 1s 1ms/step - loss: 3.6935e-04\n",
      "Epoch 6/10\n",
      "1054/1054 [==============================] - 1s 996us/step - loss: 3.8386e-04\n",
      "Epoch 7/10\n",
      "1054/1054 [==============================] - 1s 1ms/step - loss: 3.8380e-04\n",
      "Epoch 8/10\n",
      "1054/1054 [==============================] - 1s 1ms/step - loss: 3.5575e-04\n",
      "Epoch 9/10\n",
      "1054/1054 [==============================] - 1s 1ms/step - loss: 3.0254e-04\n",
      "Epoch 10/10\n",
      "1054/1054 [==============================] - 1s 1ms/step - loss: 2.5414e-04\n",
      "step 4. Evaluate the model\n",
      "15/15 [==============================] - 0s 786us/step - loss: 0.0588\n"
     ]
    },
    {
     "data": {
      "text/plain": [
       "<AxesSubplot:>"
      ]
     },
     "execution_count": 10,
     "metadata": {},
     "output_type": "execute_result"
    },
    {
     "data": {
      "image/png": "[encoded data removed]",
      "text/plain": [
       "<Figure size 432x288 with 1 Axes>"
      ]
     },
     "metadata": {
      "needs_background": "light"
     },
     "output_type": "display_data"
    }
   ],
   "source": [
    "stocks.get_predictions_stocks().plot()"
   ]
  }
 ],
 "metadata": {
  "kernelspec": {
   "display_name": "PyCharm (PREWORK_CP)",
   "language": "python",
   "name": "pycharm-ff7becef"
  },
  "language_info": {
   "codemirror_mode": {
    "name": "ipython",
    "version": 3
   },
   "file_extension": ".py",
   "mimetype": "text/x-python",
   "name": "python",
   "nbconvert_exporter": "python",
   "pygments_lexer": "ipython3",
   "version": "3.9.5"
  }
 },
 "nbformat": 4,
 "nbformat_minor": 1
}
