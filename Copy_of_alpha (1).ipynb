{
 "cells": [
  {
   "cell_type": "code",
   "execution_count": 10,
   "metadata": {
    "id": "VZSBItALfV3O"
   },
   "outputs": [],
   "source": [
    "import pandas as pd\n",
    "import io\n",
    "import requests\n",
    "import time\n",
    "api = \"d71297b987d24d278f3b135aace13402\"\n",
    "api2 = \"NCLZBG1JEQAZ21UQ\"\n",
    "ticker = \"AAPL\"\n",
    "start_date = \"2018-01-01\"\n",
    "interval = \"daily\"\n",
    "combined_df = pd.DataFrame()"
   ]
  },
  {
   "cell_type": "code",
   "execution_count": 11,
   "metadata": {
    "id": "UntPZzrDb5ds"
   },
   "outputs": [],
   "source": [
    "def alpha_timeseries(symbol,start_date,apikey,):\n",
    "  url=\"https://www.alphavantage.co/query?function=TIME_SERIES_DAILY_ADJUSTED&symbol=\"+symbol+\"&outputsize=full&apikey=\"+apikey+\"&datatype=csv\"\n",
    "  s=requests.get(url).content\n",
    "  df=pd.read_csv(io.StringIO(s.decode('utf-8')))\n",
    "  df = df.set_index('timestamp')\n",
    "  df = df.sort_index()\n",
    "  df = df.loc[start_date:]\n",
    "  return df"
   ]
  },
  {
   "cell_type": "code",
   "execution_count": 12,
   "metadata": {},
   "outputs": [],
   "source": [
    "\n",
    "ticker_stock  = \"AAPL\"\"SPY\",\"GOOG\",\"TSM\",\"NVDA\",\"MSFT\",\"PYPL\",\"VGT\",\"AMZN\",\"IBM\",\"NFLX\",\"HPQ\",\"SONY\",\"DELL\""
   ]
  },
  {
   "cell_type": "code",
   "execution_count": 13,
   "metadata": {},
   "outputs": [],
   "source": [
    "\n",
    "ticker_stock  = \"AAPL\""
   ]
  },
  {
   "cell_type": "code",
   "execution_count": 14,
   "metadata": {},
   "outputs": [],
   "source": [
    "tickers_df = alpha_timeseries(ticker_stock,start_date,api)"
   ]
  },
  {
   "cell_type": "code",
   "execution_count": null,
   "metadata": {},
   "outputs": [],
   "source": []
  },
  {
   "cell_type": "code",
   "execution_count": null,
   "metadata": {},
   "outputs": [],
   "source": []
  },
  {
   "cell_type": "code",
   "execution_count": null,
   "metadata": {
    "id": "j9DMxTORNATA"
   },
   "outputs": [],
   "source": [
    "combined_df = alpha_timeseries(ticker,start_date,api)"
   ]
  },
  {
   "cell_type": "code",
   "execution_count": null,
   "metadata": {
    "colab": {
     "base_uri": "https://localhost:8080/",
     "height": 563
    },
    "id": "-6M-L1fAgNp_",
    "outputId": "f6837f9a-d8be-44f7-ac93-3f52c844a029"
   },
   "outputs": [],
   "source": [
    "combined_df['adjusted_close'].plot(rot=90,figsize=(12,8))"
   ]
  },
  {
   "cell_type": "code",
   "execution_count": null,
   "metadata": {
    "id": "nQiY683_bHKI"
   },
   "outputs": [],
   "source": [
    "def alpha_convert(symbol,start_date,function,time_period,apikey,interval):\n",
    "  url = 'https://www.alphavantage.co/query?function='+function+'&symbol='+symbol+'&interval='+interval+'&time_period='+time_period+'&series_type=close&apikey='+apikey\n",
    "  index_name = \"timestamp\"\n",
    "  df = pd.read_json(url)\n",
    "  df  = df.iloc[10:]\n",
    "  df  = df.sort_index()\n",
    "  df = df.loc[start_date:]\n",
    "  df_list = df.index.values.tolist()\n",
    "  column_name = \"Technical Analysis: \"+ function\n",
    "  df = pd.DataFrame(df[column_name].to_list())\n",
    "  df.index = df_list\n",
    "  df.index.name = \"timestamp\"\n",
    "  for columns in df.columns:\n",
    "    df[columns] = pd.to_numeric(df[columns], downcast=\"float\")\n",
    "    df = df.rename(columns={columns: columns+\" \"+time_period})\n",
    "  return df"
   ]
  },
  {
   "cell_type": "code",
   "execution_count": null,
   "metadata": {
    "id": "a_ahNeY39oiZ"
   },
   "outputs": [],
   "source": [
    "sma20 = alpha_convert(ticker,start_date,\"SMA\",\"20\",api,interval)\n",
    "combined_df = pd.concat([combined_df, sma20], axis=1, join=\"inner\")"
   ]
  },
  {
   "cell_type": "code",
   "execution_count": null,
   "metadata": {
    "id": "ms70cYoKuk8t"
   },
   "outputs": [],
   "source": [
    "sma10 = alpha_convert(ticker,start_date,\"SMA\",\"10\",api,interval)\n",
    "combined_df = pd.concat([combined_df, sma10], axis=1, join=\"inner\")"
   ]
  },
  {
   "cell_type": "code",
   "execution_count": null,
   "metadata": {
    "id": "NHOMyadk-EAV"
   },
   "outputs": [],
   "source": [
    "ema20 = alpha_convert(ticker,start_date,\"EMA\",\"20\",api,interval)\n",
    "combined_df = pd.concat([combined_df, ema20], axis=1, join=\"inner\")"
   ]
  },
  {
   "cell_type": "code",
   "execution_count": null,
   "metadata": {
    "id": "tdtIEWV4BAly"
   },
   "outputs": [],
   "source": [
    "ema10 = alpha_convert(ticker,start_date,\"EMA\",\"10\",api,interval)\n",
    "combined_df = pd.concat([combined_df, ema10], axis=1, join=\"inner\")"
   ]
  },
  {
   "cell_type": "code",
   "execution_count": null,
   "metadata": {
    "colab": {
     "base_uri": "https://localhost:8080/",
     "height": 450
    },
    "id": "QfCw6HKSkCKn",
    "outputId": "d7f5fc92-ef3d-41da-b6e5-4a41d51f31eb"
   },
   "outputs": [],
   "source": [
    "combined_df"
   ]
  },
  {
   "cell_type": "code",
   "execution_count": null,
   "metadata": {
    "id": "OIuevI-FQIni"
   },
   "outputs": [],
   "source": [
    "\n",
    "BBANDS20 = alpha_convert(ticker,start_date,\"BBANDS\",\"20\",api2,interval)\n",
    "combined_df = pd.concat([combined_df, BBANDS20], axis=1, join=\"inner\")"
   ]
  },
  {
   "cell_type": "code",
   "execution_count": null,
   "metadata": {
    "colab": {
     "base_uri": "https://localhost:8080/",
     "height": 339
    },
    "id": "-dRUZrtSe5ij",
    "outputId": "83f246ae-9ff0-455d-83aa-597a08e29389"
   },
   "outputs": [],
   "source": [
    "MACD20 = alpha_convert(ticker,start_date,\"MACD\",\"20\",api2,interval)\n",
    "combined_df = pd.concat([combined_df, MACD20], axis=1, join=\"inner\")"
   ]
  },
  {
   "cell_type": "code",
   "execution_count": null,
   "metadata": {
    "id": "k1BX2oTEhlFZ"
   },
   "outputs": [],
   "source": [
    "RSI20 = alpha_convert(ticker,start_date,\"RSI\",\"20\",api2,interval)\n",
    "combined_df = pd.concat([combined_df, RSI20], axis=1, join=\"inner\")"
   ]
  },
  {
   "cell_type": "code",
   "execution_count": null,
   "metadata": {
    "id": "gfCJJGQLdex8"
   },
   "outputs": [],
   "source": [
    "combined_df"
   ]
  },
  {
   "cell_type": "code",
   "execution_count": null,
   "metadata": {
    "id": "k3nPphn_QIdK"
   },
   "outputs": [],
   "source": [
    "plot_list = combined_df.columns.to_list()[4:5]\n",
    "plot_list = plot_list + combined_df.columns.to_list()[8:]\n",
    "plot_list"
   ]
  },
  {
   "cell_type": "code",
   "execution_count": null,
   "metadata": {
    "id": "qbRI4j1JBNGj"
   },
   "outputs": [],
   "source": [
    "combined_df[plot_list].plot(figsize=(18,8),rot=75)"
   ]
  },
  {
   "cell_type": "code",
   "execution_count": 17,
   "metadata": {
    "id": "MfBKgUWRpCel"
   },
   "outputs": [],
   "source": [
    "from datetime import date,datetime\n",
    "today = date.today()"
   ]
  },
  {
   "cell_type": "code",
   "execution_count": 18,
   "metadata": {
    "id": "LbmhGX-3pDnl"
   },
   "outputs": [],
   "source": [
    "file_date = str(today)"
   ]
  },
  {
   "cell_type": "code",
   "execution_count": 19,
   "metadata": {
    "id": "djmkAFrwpWWg"
   },
   "outputs": [
    {
     "data": {
      "text/plain": [
       "'2021-07-13'"
      ]
     },
     "execution_count": 19,
     "metadata": {},
     "output_type": "execute_result"
    }
   ],
   "source": [
    "file_date"
   ]
  },
  {
   "cell_type": "code",
   "execution_count": 20,
   "metadata": {
    "id": "nNjPvkZXFKFG"
   },
   "outputs": [],
   "source": [
    "combined_df.to_csv('df_'+file_date+'.csv')"
   ]
  },
  {
   "cell_type": "code",
   "execution_count": 21,
   "metadata": {
    "id": "d9JCpRIkp1Kz"
   },
   "outputs": [],
   "source": [
    "now = str(datetime.now())"
   ]
  },
  {
   "cell_type": "code",
   "execution_count": 22,
   "metadata": {
    "id": "PuzdekiEbpw4"
   },
   "outputs": [
    {
     "data": {
      "text/plain": [
       "'2021-07-13 11:52:57.376444'"
      ]
     },
     "execution_count": 22,
     "metadata": {},
     "output_type": "execute_result"
    }
   ],
   "source": [
    "now"
   ]
  },
  {
   "cell_type": "code",
   "execution_count": 23,
   "metadata": {
    "id": "k5I5Nfr3qBAM"
   },
   "outputs": [],
   "source": [
    "combined_df.to_csv('df_'+now+'.csv')"
   ]
  },
  {
   "cell_type": "code",
   "execution_count": null,
   "metadata": {
    "id": "X6unH-HZqV1e"
   },
   "outputs": [],
   "source": []
  }
 ],
 "metadata": {
  "colab": {
   "name": "Copy of alpha.ipynb",
   "provenance": []
  },
  "environment": {
   "name": "common-cpu.m73",
   "type": "gcloud",
   "uri": "gcr.io/deeplearning-platform-release/base-cpu:m73"
  },
  "kernelspec": {
   "display_name": "Python 3",
   "language": "python",
   "name": "python3"
  },
  "language_info": {
   "codemirror_mode": {
    "name": "ipython",
    "version": 3
   },
   "file_extension": ".py",
   "mimetype": "text/x-python",
   "name": "python",
   "nbconvert_exporter": "python",
   "pygments_lexer": "ipython3",
   "version": "3.7.10"
  }
 },
 "nbformat": 4,
 "nbformat_minor": 4
}
